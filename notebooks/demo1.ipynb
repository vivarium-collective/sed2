{
 "cells": [
  {
   "cell_type": "markdown",
   "id": "5ca5db80-f86f-4e34-8874-d7c3fe6b51a4",
   "metadata": {},
   "source": [
    "# simulation experiment\n",
    "The composition schema was developed for integrative simulations, but can also be used for workflows such as simulation experiments. This experimental notebook demonstrates simulation experiments as composites, going from the declarative JSON format to executable python script.  \n",
    "\n",
    "Example scripts were provided here: https://docs.google.com/document/d/1jZkaNhM_cOqMWtd4sJZ9b0VGXPTLsDKsRNI5Yvu4nOA/edit"
   ]
  },
  {
   "cell_type": "markdown",
   "id": "fddbed85-f6a6-4bbe-89cc-2875e5199f74",
   "metadata": {},
   "source": [
    "## Imports"
   ]
  },
  {
   "cell_type": "code",
   "execution_count": 1,
   "id": "d159905e-9fbe-4910-987e-f3a281a0475d",
   "metadata": {},
   "outputs": [],
   "source": [
    "from bigraph_viz import plot_bigraph, plot_flow, pf\n",
    "from bigraph_viz.dict_utils import schema_keys\n",
    "\n",
    "import sed2\n",
    "from demo import TelluriumProcess as te\n",
    "from demo import CopasiProcess as co\n",
    "\n",
    "sbmlmodel = 'demo/Caravagna2010.xml'"
   ]
  },
  {
   "cell_type": "code",
   "execution_count": 6,
   "id": "3aece9ef-69f8-4e8e-970a-32f4e84bfeb6",
   "metadata": {
    "scrolled": true
   },
   "outputs": [
    {
     "name": "stdout",
     "output_type": "stream",
     "text": [
      "True\n"
     ]
    }
   ],
   "source": [
    "import os\n",
    "os.chdir('/Users/eranagmon/code/sed2')\n",
    "print(os.path.exists('demo/Caravagna2010.xml'))"
   ]
  },
  {
   "cell_type": "code",
   "execution_count": 8,
   "id": "e120f284-bf8a-40c9-a3dc-d4ebdc1cd4a2",
   "metadata": {},
   "outputs": [
    {
     "ename": "AttributeError",
     "evalue": "'str' object has no attribute 'name'",
     "output_type": "error",
     "traceback": [
      "\u001b[0;31m---------------------------------------------------------------------------\u001b[0m",
      "\u001b[0;31mAttributeError\u001b[0m                            Traceback (most recent call last)",
      "Cell \u001b[0;32mIn[8], line 3\u001b[0m\n\u001b[1;32m      1\u001b[0m sd \u001b[38;5;241m=\u001b[39m te\u001b[38;5;241m.\u001b[39mload(sbmlmodel)\n\u001b[0;32m----> 3\u001b[0m \u001b[38;5;28mprint\u001b[39m(\u001b[43msd\u001b[49m\u001b[38;5;241;43m.\u001b[39;49m\u001b[43mschema\u001b[49m\u001b[43m(\u001b[49m\u001b[43m)\u001b[49m)\n\u001b[1;32m      4\u001b[0m \u001b[38;5;66;03m# The important bit are methods to add all the info to the sed2, this would include (something like this but needs to be iterated on as its just off the top of my head):\u001b[39;00m\n\u001b[1;32m      5\u001b[0m         \n\u001b[1;32m      6\u001b[0m \u001b[38;5;66;03m# sed_instance = {\u001b[39;00m\n\u001b[0;32m   (...)\u001b[0m\n\u001b[1;32m     28\u001b[0m \u001b[38;5;66;03m#     }\u001b[39;00m\n\u001b[1;32m     29\u001b[0m \u001b[38;5;66;03m# }\u001b[39;00m\n",
      "File \u001b[0;32m~/code/sed2/demo/tellurium_process.py:27\u001b[0m, in \u001b[0;36mTelluriumProcess.schema\u001b[0;34m(self)\u001b[0m\n\u001b[1;32m     26\u001b[0m \u001b[38;5;28;01mdef\u001b[39;00m \u001b[38;5;21mschema\u001b[39m(\u001b[38;5;28mself\u001b[39m):\n\u001b[0;32m---> 27\u001b[0m     fluxes_schema \u001b[38;5;241m=\u001b[39m {\n\u001b[1;32m     28\u001b[0m         reaction\u001b[38;5;241m.\u001b[39mname: \u001b[38;5;124m'\u001b[39m\u001b[38;5;124mfloat\u001b[39m\u001b[38;5;124m'\u001b[39m \u001b[38;5;28;01mfor\u001b[39;00m reaction \u001b[38;5;129;01min\u001b[39;00m \u001b[38;5;28mself\u001b[39m\u001b[38;5;241m.\u001b[39mfloating_species_list}\n\u001b[1;32m     29\u001b[0m     \u001b[38;5;28;01mreturn\u001b[39;00m {\n\u001b[1;32m     30\u001b[0m         \u001b[38;5;124m'\u001b[39m\u001b[38;5;124mspecies\u001b[39m\u001b[38;5;124m'\u001b[39m: fluxes_schema,  \u001b[38;5;66;03m# 'dict[string,float]',\u001b[39;00m\n\u001b[1;32m     31\u001b[0m     }\n",
      "File \u001b[0;32m~/code/sed2/demo/tellurium_process.py:28\u001b[0m, in \u001b[0;36m<dictcomp>\u001b[0;34m(.0)\u001b[0m\n\u001b[1;32m     26\u001b[0m \u001b[38;5;28;01mdef\u001b[39;00m \u001b[38;5;21mschema\u001b[39m(\u001b[38;5;28mself\u001b[39m):\n\u001b[1;32m     27\u001b[0m     fluxes_schema \u001b[38;5;241m=\u001b[39m {\n\u001b[0;32m---> 28\u001b[0m         \u001b[43mreaction\u001b[49m\u001b[38;5;241;43m.\u001b[39;49m\u001b[43mname\u001b[49m: \u001b[38;5;124m'\u001b[39m\u001b[38;5;124mfloat\u001b[39m\u001b[38;5;124m'\u001b[39m \u001b[38;5;28;01mfor\u001b[39;00m reaction \u001b[38;5;129;01min\u001b[39;00m \u001b[38;5;28mself\u001b[39m\u001b[38;5;241m.\u001b[39mfloating_species_list}\n\u001b[1;32m     29\u001b[0m     \u001b[38;5;28;01mreturn\u001b[39;00m {\n\u001b[1;32m     30\u001b[0m         \u001b[38;5;124m'\u001b[39m\u001b[38;5;124mspecies\u001b[39m\u001b[38;5;124m'\u001b[39m: fluxes_schema,  \u001b[38;5;66;03m# 'dict[string,float]',\u001b[39;00m\n\u001b[1;32m     31\u001b[0m     }\n",
      "\u001b[0;31mAttributeError\u001b[0m: 'str' object has no attribute 'name'"
     ]
    }
   ],
   "source": [
    "sd = te.load(sbmlmodel)\n",
    "\n",
    "print(sd.schema())\n",
    "\n",
    "# The important bit are methods to add all the info to the sed2, this would include (something like this but needs to be iterated on as its just off the top of my head):\n",
    "        \n",
    "# sed_instance = {\n",
    "#     \"modelFile\": \"model.xml\",\n",
    "#     \"modelString\": \"or <xml etc\",\n",
    "#     \"startTime\": 0,\n",
    "#     \"endTime\": 10,\n",
    "#     \"numPoints\": 100,\n",
    "#     \"outputList\": [\n",
    "#         \"Time\",\n",
    "#         \"S1\",\n",
    "#         \"S2\"\n",
    "#     ],\n",
    "#     \"output\": {\n",
    "#         \"type\": \"csv\",\n",
    "#         \"filename\": \"myresults.csv\",\n",
    "#     },\n",
    "#     \"method\": {\n",
    "#         \"cvode\": {\n",
    "#             \"ksiao\": \"0000019\",\n",
    "#             \"retol\": 0.000001,\n",
    "#             \"abstol\": 1e-12,\n",
    "#             \"etc\": \"other parameters\",\n",
    "#         }\n",
    "#     }\n",
    "# }"
   ]
  },
  {
   "cell_type": "code",
   "execution_count": null,
   "id": "b3be5179-4733-4c39-bb62-a56e51052940",
   "metadata": {},
   "outputs": [],
   "source": []
  }
 ],
 "metadata": {
  "kernelspec": {
   "display_name": "Python 3 (ipykernel)",
   "language": "python",
   "name": "python3"
  },
  "language_info": {
   "codemirror_mode": {
    "name": "ipython",
    "version": 3
   },
   "file_extension": ".py",
   "mimetype": "text/x-python",
   "name": "python",
   "nbconvert_exporter": "python",
   "pygments_lexer": "ipython3",
   "version": "3.9.6"
  }
 },
 "nbformat": 4,
 "nbformat_minor": 5
}
