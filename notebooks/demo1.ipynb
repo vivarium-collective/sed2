{
 "cells": [
  {
   "cell_type": "markdown",
   "id": "5ca5db80-f86f-4e34-8874-d7c3fe6b51a4",
   "metadata": {},
   "source": [
    "# simulation experiment\n",
    "The composition schema was developed for integrative simulations, but can also be used for workflows such as simulation experiments. This experimental notebook demonstrates simulation experiments as composites, going from the declarative JSON format to executable python script.  \n",
    "\n",
    "Example scripts were provided here: https://docs.google.com/document/d/1jZkaNhM_cOqMWtd4sJZ9b0VGXPTLsDKsRNI5Yvu4nOA/edit"
   ]
  },
  {
   "cell_type": "markdown",
   "id": "fddbed85-f6a6-4bbe-89cc-2875e5199f74",
   "metadata": {},
   "source": [
    "## Imports"
   ]
  },
  {
   "cell_type": "code",
   "execution_count": 1,
   "id": "d159905e-9fbe-4910-987e-f3a281a0475d",
   "metadata": {},
   "outputs": [],
   "source": [
    "from bigraph_viz import plot_bigraph, plot_flow, pf\n",
    "from bigraph_viz.dict_utils import schema_keys\n"
   ]
  },
  {
   "cell_type": "code",
   "execution_count": null,
   "id": "e120f284-bf8a-40c9-a3dc-d4ebdc1cd4a2",
   "metadata": {},
   "outputs": [],
   "source": [
    "import sed2\n",
    "sd = sed2.load(sbmlmodel)\n",
    "# The important bit are methods to add all the info to the sed2, this would include (something like this but needs to be iterated on as its just off the top of my head):\n",
    "        \n",
    "sed_instance = {\n",
    "    \"modelFile\": \"model.xml\",\n",
    "    \"modelString\": \"or <xml etc\",\n",
    "    \"startTime\": 0,\n",
    "    \"endTime\": 10,\n",
    "    \"numPoints\": 100,\n",
    "    \"outputList\": [\n",
    "        \"Time\",\n",
    "        \"S1\",\n",
    "        \"S2\"\n",
    "    ],\n",
    "    \"output\": {\n",
    "        \"type\": \"csv\",\n",
    "        \"filename\": \"myresults.csv\",\n",
    "    },\n",
    "    \"method\": {\n",
    "        \"cvode\": {\n",
    "            \"ksiao\": \"0000019\",\n",
    "            \"retol\": 0.000001,\n",
    "            \"abstol\": 1e-12,\n",
    "            \"etc\": \"other parameters\",\n",
    "        }\n",
    "    }\n",
    "}"
   ]
  }
 ],
 "metadata": {
  "kernelspec": {
   "display_name": "Python 3 (ipykernel)",
   "language": "python",
   "name": "python3"
  },
  "language_info": {
   "codemirror_mode": {
    "name": "ipython",
    "version": 3
   },
   "file_extension": ".py",
   "mimetype": "text/x-python",
   "name": "python",
   "nbconvert_exporter": "python",
   "pygments_lexer": "ipython3",
   "version": "3.9.6"
  }
 },
 "nbformat": 4,
 "nbformat_minor": 5
}
