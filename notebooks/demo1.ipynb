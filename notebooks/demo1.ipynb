{
 "cells": [
  {
   "cell_type": "code",
   "execution_count": 6,
   "id": "64ff782f-9f15-4ec6-ae89-503d99dd6041",
   "metadata": {},
   "outputs": [],
   "source": [
    "from process_bigraph import Composite, types\n",
    "from sed2 import pp\n",
    "from sed2.schemas import sed_types, sed_compositions\n",
    "\n",
    "# add sed types to base types\n",
    "types.type_registry.register_multiple(sed_types)"
   ]
  },
  {
   "cell_type": "code",
   "execution_count": 7,
   "id": "89157669-19c3-4258-a799-b4e655b541de",
   "metadata": {},
   "outputs": [
    {
     "name": "stdout",
     "output_type": "stream",
     "text": [
      "{ 'estimate_and_run': { 'analysis': { '_ports': { 'inputs': { 'simulation_results': 'tree[any]'},\n",
      "                                                  'outputs': { 'analysis_results': 'tree[any]'}},\n",
      "                                      '_type': 'step'},\n",
      "                        'analysis_results': 'tree[any]',\n",
      "                        'data': 'tree[any]',\n",
      "                        'model': 'sbml',\n",
      "                        'parameter_estimation': { '_ports': { 'inputs': { 'data': 'tree[any]',\n",
      "                                                                          'model': 'sbml'},\n",
      "                                                              'outputs': { 'parameters': 'tree[any]'}},\n",
      "                                                  '_type': 'step'},\n",
      "                        'parameters': 'tree[any]',\n",
      "                        'simulation_results': 'tree[any]',\n",
      "                        'simulator': { '_ports': { 'inputs': { 'model': 'sbml',\n",
      "                                                               'parameters': 'tree[any]'},\n",
      "                                                   'outputs': { 'simulation_results': 'tree[any]'}},\n",
      "                                       '_type': 'step'}}}\n",
      "None\n"
     ]
    }
   ],
   "source": [
    "print(pp(sed_compositions))"
   ]
  },
  {
   "cell_type": "code",
   "execution_count": 8,
   "id": "09c76aa5-9cfc-4fac-8ce8-e4ce258ccc9c",
   "metadata": {},
   "outputs": [
    {
     "data": {
      "text/plain": [
       "{'results': '{}'}"
      ]
     },
     "execution_count": 8,
     "metadata": {},
     "output_type": "execute_result"
    }
   ],
   "source": [
    "simulation_state = {\n",
    "    'data': {},\n",
    "    'model': '\"something.sbml\"',\n",
    "    'parameter_estimation': {\n",
    "        'address': 'local:sed2.toy_processes.EstimateParameters',  # using a local toy process\n",
    "        'config': {},\n",
    "        'wires': {\n",
    "            'inputs': {\n",
    "                'data': ['data'],\n",
    "                'model': ['model']},\n",
    "            'outputs': {\n",
    "                'parameters': ['parameters']}}},\n",
    "    'simulator': {\n",
    "        'address': 'local:sed2.toy_processes.UniformTimecourse',  # using a local toy process\n",
    "        'config': {},\n",
    "        'wires': {\n",
    "            'inputs': {\n",
    "                'model': ['model'],\n",
    "                'parameters': ['parameters']},\n",
    "            'outputs': {\n",
    "                'simulation_results': ['simulation_results']}}},\n",
    "    'analysis': {\n",
    "        'address': 'local:sed2.toy_processes.AnalyzeResults',  # using a local toy process\n",
    "        'config': {},\n",
    "        'wires': {\n",
    "            'inputs': {\n",
    "                'simulation_results': ['simulation_results']},\n",
    "            'outputs': {\n",
    "                'analysis_results': ['analysis_results']\n",
    "            }\n",
    "        }\n",
    "    }\n",
    "}"
   ]
  },
  {
   "cell_type": "code",
   "execution_count": 9,
   "id": "d0370fc9-1fdd-487c-aecf-cb45a85ea3dc",
   "metadata": {},
   "outputs": [
    {
     "data": {
      "text/plain": [
       "{'results': '{}'}"
      ]
     },
     "execution_count": 9,
     "metadata": {},
     "output_type": "execute_result"
    }
   ],
   "source": [
    "workflow = Composite({\n",
    "    'composition': sed_compositions['estimate_and_run'],\n",
    "    'schema': {\n",
    "        'results': 'tree[any]'},\n",
    "    'bridge': {\n",
    "        'results': ['analysis_results']},\n",
    "    'state': simulation_state\n",
    "},\n",
    ")\n",
    "\n",
    "workflow.update({}, 0)   # TODO -- this is a step-only workflow, should not require interval"
   ]
  },
  {
   "cell_type": "code",
   "execution_count": null,
   "id": "7a43e79e-9696-4464-b9d7-d2a44f6e82ad",
   "metadata": {},
   "outputs": [],
   "source": []
  }
 ],
 "metadata": {
  "kernelspec": {
   "display_name": "Python 3 (ipykernel)",
   "language": "python",
   "name": "python3"
  },
  "language_info": {
   "codemirror_mode": {
    "name": "ipython",
    "version": 3
   },
   "file_extension": ".py",
   "mimetype": "text/x-python",
   "name": "python",
   "nbconvert_exporter": "python",
   "pygments_lexer": "ipython3",
   "version": "3.9.6"
  }
 },
 "nbformat": 4,
 "nbformat_minor": 5
}
