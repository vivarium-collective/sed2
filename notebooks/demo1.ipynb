{
 "cells": [
  {
   "cell_type": "markdown",
   "id": "5ca5db80-f86f-4e34-8874-d7c3fe6b51a4",
   "metadata": {},
   "source": [
    "# simulation experiment\n",
    "The composition schema was developed for integrative simulations, but can also be used for workflows such as simulation experiments. This experimental notebook demonstrates simulation experiments as composites, going from the declarative JSON format to executable python script.  \n",
    "\n",
    "Example scripts were provided here: https://docs.google.com/document/d/1jZkaNhM_cOqMWtd4sJZ9b0VGXPTLsDKsRNI5Yvu4nOA/edit"
   ]
  },
  {
   "cell_type": "markdown",
   "id": "fddbed85-f6a6-4bbe-89cc-2875e5199f74",
   "metadata": {},
   "source": [
    "## Imports"
   ]
  },
  {
   "cell_type": "code",
   "execution_count": 1,
   "id": "d159905e-9fbe-4910-987e-f3a281a0475d",
   "metadata": {},
   "outputs": [],
   "source": [
    "from bigraph_viz import plot_bigraph, plot_flow, pf\n",
    "from bigraph_viz.dict_utils import schema_keys\n",
    "\n",
    "import sed2\n",
    "from demo.processes import TelluriumProcess as te"
   ]
  },
  {
   "cell_type": "code",
   "execution_count": 2,
   "id": "56d61425-b94f-46f8-bcc1-45cb79fdf4a5",
   "metadata": {},
   "outputs": [
    {
     "ename": "ValueError",
     "evalue": "invalid null reference in method 'new_RoadRunner', argument 1 of type 'std::string const &'",
     "output_type": "error",
     "traceback": [
      "\u001b[0;31m---------------------------------------------------------------------------\u001b[0m",
      "\u001b[0;31mValueError\u001b[0m                                Traceback (most recent call last)",
      "Cell \u001b[0;32mIn[2], line 1\u001b[0m\n\u001b[0;32m----> 1\u001b[0m sd \u001b[38;5;241m=\u001b[39m \u001b[43mte\u001b[49m\u001b[38;5;241;43m.\u001b[39;49m\u001b[43mload\u001b[49m\u001b[43m(\u001b[49m\u001b[38;5;124;43m'\u001b[39;49m\u001b[38;5;124;43mdemo/Caravagna2010.xml\u001b[39;49m\u001b[38;5;124;43m'\u001b[39;49m\u001b[43m)\u001b[49m\n\u001b[1;32m      2\u001b[0m \u001b[38;5;28mprint\u001b[39m(sd)\n",
      "File \u001b[0;32m~/code/sed2/demo/processes.py:28\u001b[0m, in \u001b[0;36mTelluriumProcess.load\u001b[0;34m(cls, sbml_model)\u001b[0m\n\u001b[1;32m     26\u001b[0m \u001b[38;5;129m@classmethod\u001b[39m\n\u001b[1;32m     27\u001b[0m \u001b[38;5;28;01mdef\u001b[39;00m \u001b[38;5;21mload\u001b[39m(\u001b[38;5;28mcls\u001b[39m, sbml_model):\n\u001b[0;32m---> 28\u001b[0m     \u001b[38;5;28;01mreturn\u001b[39;00m \u001b[38;5;28;43mcls\u001b[39;49m\u001b[43m(\u001b[49m\u001b[43m{\u001b[49m\u001b[38;5;124;43m'\u001b[39;49m\u001b[38;5;124;43msbml_model_path\u001b[39;49m\u001b[38;5;124;43m'\u001b[39;49m\u001b[43m:\u001b[49m\u001b[43m \u001b[49m\u001b[43msbml_model\u001b[49m\u001b[43m}\u001b[49m\u001b[43m)\u001b[49m\n",
      "File \u001b[0;32m~/code/sed2/demo/processes.py:21\u001b[0m, in \u001b[0;36mTelluriumProcess.__init__\u001b[0;34m(self, config)\u001b[0m\n\u001b[1;32m     19\u001b[0m     \u001b[38;5;28mself\u001b[39m\u001b[38;5;241m.\u001b[39msimulator \u001b[38;5;241m=\u001b[39m tellurium\u001b[38;5;241m.\u001b[39mloada(\u001b[38;5;28mself\u001b[39m\u001b[38;5;241m.\u001b[39mconfig[\u001b[38;5;124m'\u001b[39m\u001b[38;5;124mantimony_string\u001b[39m\u001b[38;5;124m'\u001b[39m])\n\u001b[1;32m     20\u001b[0m \u001b[38;5;28;01melse\u001b[39;00m:\n\u001b[0;32m---> 21\u001b[0m     \u001b[38;5;28mself\u001b[39m\u001b[38;5;241m.\u001b[39msimulator \u001b[38;5;241m=\u001b[39m \u001b[43mtellurium\u001b[49m\u001b[38;5;241;43m.\u001b[39;49m\u001b[43mloadSBMLModel\u001b[49m\u001b[43m(\u001b[49m\u001b[38;5;28;43mself\u001b[39;49m\u001b[38;5;241;43m.\u001b[39;49m\u001b[43mconfig\u001b[49m\u001b[43m[\u001b[49m\u001b[38;5;124;43m'\u001b[39;49m\u001b[38;5;124;43msbml_model_path\u001b[39;49m\u001b[38;5;124;43m'\u001b[39;49m\u001b[43m]\u001b[49m\u001b[43m)\u001b[49m\n\u001b[1;32m     23\u001b[0m \u001b[38;5;66;03m# extract the variables\u001b[39;00m\n\u001b[1;32m     24\u001b[0m \u001b[38;5;28mself\u001b[39m\u001b[38;5;241m.\u001b[39mspecies \u001b[38;5;241m=\u001b[39m \u001b[38;5;28mself\u001b[39m\u001b[38;5;241m.\u001b[39msimulator\u001b[38;5;241m.\u001b[39mget_species()\n",
      "File \u001b[0;32m~/code/sed2/venv/lib/python3.9/site-packages/tellurium/tellurium.py:563\u001b[0m, in \u001b[0;36mloadSBMLModel\u001b[0;34m(sbml)\u001b[0m\n\u001b[1;32m    555\u001b[0m \u001b[38;5;28;01mdef\u001b[39;00m \u001b[38;5;21mloadSBMLModel\u001b[39m(sbml):\n\u001b[1;32m    556\u001b[0m \u001b[38;5;250m    \u001b[39m\u001b[38;5;124;03m\"\"\" Load SBML model from a string or file.\u001b[39;00m\n\u001b[1;32m    557\u001b[0m \n\u001b[1;32m    558\u001b[0m \u001b[38;5;124;03m    :param sbml: SBML model\u001b[39;00m\n\u001b[0;32m   (...)\u001b[0m\n\u001b[1;32m    561\u001b[0m \u001b[38;5;124;03m    :rtype: roadrunner.ExtendedRoadRunner\u001b[39;00m\n\u001b[1;32m    562\u001b[0m \u001b[38;5;124;03m    \"\"\"\u001b[39;00m\n\u001b[0;32m--> 563\u001b[0m     \u001b[38;5;28;01mreturn\u001b[39;00m \u001b[43mroadrunner\u001b[49m\u001b[38;5;241;43m.\u001b[39;49m\u001b[43mRoadRunner\u001b[49m\u001b[43m(\u001b[49m\u001b[43msbml\u001b[49m\u001b[43m)\u001b[49m\n",
      "File \u001b[0;32m~/code/sed2/venv/lib/python3.9/site-packages/tellurium/roadrunner/extended_roadrunner.py:16\u001b[0m, in \u001b[0;36mExtendedRoadRunner.__init__\u001b[0;34m(self, *args, **kwargs)\u001b[0m\n\u001b[1;32m     15\u001b[0m \u001b[38;5;28;01mdef\u001b[39;00m \u001b[38;5;21m__init__\u001b[39m(\u001b[38;5;28mself\u001b[39m, \u001b[38;5;241m*\u001b[39margs, \u001b[38;5;241m*\u001b[39m\u001b[38;5;241m*\u001b[39mkwargs):\n\u001b[0;32m---> 16\u001b[0m     \u001b[38;5;28;43msuper\u001b[39;49m\u001b[43m(\u001b[49m\u001b[43mExtendedRoadRunner\u001b[49m\u001b[43m,\u001b[49m\u001b[43m \u001b[49m\u001b[38;5;28;43mself\u001b[39;49m\u001b[43m)\u001b[49m\u001b[38;5;241;43m.\u001b[39;49m\u001b[38;5;21;43m__init__\u001b[39;49m\u001b[43m(\u001b[49m\u001b[38;5;241;43m*\u001b[39;49m\u001b[43margs\u001b[49m\u001b[43m,\u001b[49m\u001b[43m \u001b[49m\u001b[38;5;241;43m*\u001b[39;49m\u001b[38;5;241;43m*\u001b[39;49m\u001b[43mkwargs\u001b[49m\u001b[43m)\u001b[49m\n",
      "File \u001b[0;32m~/code/sed2/venv/lib/python3.9/site-packages/roadrunner/roadrunner.py:4491\u001b[0m, in \u001b[0;36mRoadRunner._new_init\u001b[0;34m(self, *args)\u001b[0m\n\u001b[1;32m   4488\u001b[0m             \u001b[38;5;28;01mreturn\u001b[39;00m\n\u001b[1;32m   4490\u001b[0m \u001b[38;5;66;03m# Otherwise, use regular init\u001b[39;00m\n\u001b[0;32m-> 4491\u001b[0m     \u001b[43mRoadRunner\u001b[49m\u001b[38;5;241;43m.\u001b[39;49m\u001b[43m_swig_init\u001b[49m\u001b[43m(\u001b[49m\u001b[38;5;28;43mself\u001b[39;49m\u001b[43m,\u001b[49m\u001b[43m \u001b[49m\u001b[38;5;241;43m*\u001b[39;49m\u001b[43margs\u001b[49m\u001b[43m)\u001b[49m\n\u001b[1;32m   4492\u001b[0m     RoadRunner\u001b[38;5;241m.\u001b[39m_makeProperties(\u001b[38;5;28mself\u001b[39m)\n",
      "File \u001b[0;32m~/code/sed2/venv/lib/python3.9/site-packages/roadrunner/roadrunner.py:2700\u001b[0m, in \u001b[0;36mRoadRunner.__init__\u001b[0;34m(self, *args)\u001b[0m\n\u001b[1;32m   2672\u001b[0m \u001b[38;5;28;01mdef\u001b[39;00m \u001b[38;5;21m__init__\u001b[39m(\u001b[38;5;28mself\u001b[39m, \u001b[38;5;241m*\u001b[39margs):\n\u001b[1;32m   2673\u001b[0m \u001b[38;5;250m    \u001b[39m\u001b[38;5;124mr\u001b[39m\u001b[38;5;124;03m\"\"\"\u001b[39;00m\n\u001b[1;32m   2674\u001b[0m \u001b[38;5;124;03m    *Overload 1:*\u001b[39;00m\n\u001b[1;32m   2675\u001b[0m \n\u001b[0;32m   (...)\u001b[0m\n\u001b[1;32m   2698\u001b[0m \u001b[38;5;124;03m    RoadRunner copy constructor\u001b[39;00m\n\u001b[1;32m   2699\u001b[0m \u001b[38;5;124;03m    \"\"\"\u001b[39;00m\n\u001b[0;32m-> 2700\u001b[0m     _roadrunner\u001b[38;5;241m.\u001b[39mRoadRunner_swiginit(\u001b[38;5;28mself\u001b[39m, \u001b[43m_roadrunner\u001b[49m\u001b[38;5;241;43m.\u001b[39;49m\u001b[43mnew_RoadRunner\u001b[49m\u001b[43m(\u001b[49m\u001b[38;5;241;43m*\u001b[39;49m\u001b[43margs\u001b[49m\u001b[43m)\u001b[49m)\n",
      "\u001b[0;31mValueError\u001b[0m: invalid null reference in method 'new_RoadRunner', argument 1 of type 'std::string const &'"
     ]
    }
   ],
   "source": [
    "sd = te.load('demo/Caravagna2010.xml')\n",
    "print(sd)"
   ]
  },
  {
   "cell_type": "code",
   "execution_count": null,
   "id": "e120f284-bf8a-40c9-a3dc-d4ebdc1cd4a2",
   "metadata": {},
   "outputs": [],
   "source": [
    "\n",
    "sd = te.load(sbmlmodel)\n",
    "# The important bit are methods to add all the info to the sed2, this would include (something like this but needs to be iterated on as its just off the top of my head):\n",
    "        \n",
    "sed_instance = {\n",
    "    \"modelFile\": \"model.xml\",\n",
    "    \"modelString\": \"or <xml etc\",\n",
    "    \"startTime\": 0,\n",
    "    \"endTime\": 10,\n",
    "    \"numPoints\": 100,\n",
    "    \"outputList\": [\n",
    "        \"Time\",\n",
    "        \"S1\",\n",
    "        \"S2\"\n",
    "    ],\n",
    "    \"output\": {\n",
    "        \"type\": \"csv\",\n",
    "        \"filename\": \"myresults.csv\",\n",
    "    },\n",
    "    \"method\": {\n",
    "        \"cvode\": {\n",
    "            \"ksiao\": \"0000019\",\n",
    "            \"retol\": 0.000001,\n",
    "            \"abstol\": 1e-12,\n",
    "            \"etc\": \"other parameters\",\n",
    "        }\n",
    "    }\n",
    "}"
   ]
  }
 ],
 "metadata": {
  "kernelspec": {
   "display_name": "Python 3 (ipykernel)",
   "language": "python",
   "name": "python3"
  },
  "language_info": {
   "codemirror_mode": {
    "name": "ipython",
    "version": 3
   },
   "file_extension": ".py",
   "mimetype": "text/x-python",
   "name": "python",
   "nbconvert_exporter": "python",
   "pygments_lexer": "ipython3",
   "version": "3.9.6"
  }
 },
 "nbformat": 4,
 "nbformat_minor": 5
}
