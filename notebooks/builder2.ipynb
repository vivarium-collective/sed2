{
 "cells": [
  {
   "cell_type": "markdown",
   "id": "1d710bb3-0469-402c-a25b-715e031fd988",
   "metadata": {},
   "source": [
    "# SED2 Builder API demo\n",
    "\n",
    "\"Things You Should Be Able To Do\" were provided here: https://docs.google.com/document/d/1jZkaNhM_cOqMWtd4sJZ9b0VGXPTLsDKsRNI5Yvu4nOA/edit"
   ]
  },
  {
   "cell_type": "code",
   "execution_count": 1,
   "id": "b3719a8b-50e6-41be-adc6-5ceaf1ca1203",
   "metadata": {},
   "outputs": [],
   "source": [
    "from bigraph_viz import plot_bigraph, plot_flow, pf\n",
    "from bigraph_viz.dict_utils import schema_keys\n",
    "from demo_processes import process_registry  # this triggers the demo processes to register. TODO -- make this better\n",
    "from sed2.builder import SEDBuilder\n",
    "\n",
    "MODEL_PATH = 'demo_processes/Caravagna2010.xml'\n",
    "\n",
    "schema_keys.extend(['global_time'])  # remove these from bigraph viz"
   ]
  },
  {
   "cell_type": "code",
   "execution_count": 2,
   "id": "ae7177e2-ca6f-4404-8cac-286b743621da",
   "metadata": {},
   "outputs": [
    {
     "name": "stdout",
     "output_type": "stream",
     "text": [
      "The current working directory is: /Users/eranagmon/code/sed2/notebooks\n",
      "Changed directory to: /Users/eranagmon/code/sed2\n"
     ]
    }
   ],
   "source": [
    "import os\n",
    "current_directory = os.getcwd()\n",
    "print(f\"The current working directory is: {current_directory}\")\n",
    "\n",
    "# Define the path to which you want to change the directory\n",
    "new_directory = '/Users/eranagmon/code/sed2'\n",
    "if not os.path.exists(new_directory):\n",
    "    os.makedirs(new_directory)\n",
    "os.chdir(new_directory)\n",
    "print(f\"Changed directory to: {new_directory}\")\n"
   ]
  },
  {
   "cell_type": "code",
   "execution_count": 3,
   "id": "fb8cd92e-f549-40c1-b748-c5af141f717e",
   "metadata": {},
   "outputs": [
    {
     "name": "stdout",
     "output_type": "stream",
     "text": [
      "Help on class SEDBuilder in module sed2.builder:\n",
      "\n",
      "class SEDBuilder(Builder)\n",
      " |  SEDBuilder(tree_dict=None)\n",
      " |  \n",
      " |  Method resolution order:\n",
      " |      SEDBuilder\n",
      " |      Builder\n",
      " |      builtins.object\n",
      " |  \n",
      " |  Methods defined here:\n",
      " |  \n",
      " |  __init__(self, tree_dict=None)\n",
      " |      Initialize self.  See help(type(self)) for accurate signature.\n",
      " |  \n",
      " |  add_data_generator(self, data_id, simulation_id=None, observables=None, operations=None, generator_id='data_operation')\n",
      " |  \n",
      " |  add_dataset(self)\n",
      " |  \n",
      " |  add_model(self, model_id, source, language=None, changes=None)\n",
      " |  \n",
      " |  add_resource(self)\n",
      " |  \n",
      " |  add_simulation(self, simulation_id, simulator_id, model_id, start_time=None, end_time=None, number_of_points=None, observables=None)\n",
      " |  \n",
      " |  add_simulator(self, simulator_id, name, version, kisao_id)\n",
      " |  \n",
      " |  add_task(self, task_id=None)\n",
      " |  \n",
      " |  add_visualization(self, plot_id, plot_type=None, title=None, x_label=None, y_label=None, legend=None)\n",
      " |  \n",
      " |  execute(self)\n",
      " |  \n",
      " |  print_sed_doc(self)\n",
      " |  \n",
      " |  save_archive(self)\n",
      " |      save all the models and metadata in an archive\n",
      " |  \n",
      " |  save_sed_doc(self, filename=None, out_dir='out')\n",
      " |  \n",
      " |  ----------------------------------------------------------------------\n",
      " |  Methods inherited from Builder:\n",
      " |  \n",
      " |  __getitem__(self, keys)\n",
      " |  \n",
      " |  __repr__(self)\n",
      " |      Return repr(self).\n",
      " |  \n",
      " |  __setitem__(self, keys, value)\n",
      " |  \n",
      " |  add_process(self)\n",
      " |  \n",
      " |  add_store(self)\n",
      " |  \n",
      " |  ----------------------------------------------------------------------\n",
      " |  Data descriptors inherited from Builder:\n",
      " |  \n",
      " |  __dict__\n",
      " |      dictionary for instance variables (if defined)\n",
      " |  \n",
      " |  __weakref__\n",
      " |      list of weak references to the object (if defined)\n",
      " |  \n",
      " |  ----------------------------------------------------------------------\n",
      " |  Data and other attributes inherited from Builder:\n",
      " |  \n",
      " |  schema_keys = {'_value'}\n",
      "\n"
     ]
    }
   ],
   "source": [
    "help(SEDBuilder)"
   ]
  },
  {
   "cell_type": "markdown",
   "id": "9faa9857-d724-4c66-a71a-d9e2f1eba5ac",
   "metadata": {},
   "source": [
    "## 1. Run a simulation from time start to time end with a given number of points/steps.  The run will return a 2D array of results."
   ]
  },
  {
   "cell_type": "code",
   "execution_count": 4,
   "id": "22bd1734-1479-463f-a748-94e9a9187021",
   "metadata": {},
   "outputs": [
    {
     "ename": "AttributeError",
     "evalue": "'SEDBuilder' object has no attribute 'start_step'",
     "output_type": "error",
     "traceback": [
      "\u001b[0;31m---------------------------------------------------------------------------\u001b[0m",
      "\u001b[0;31mAttributeError\u001b[0m                            Traceback (most recent call last)",
      "Cell \u001b[0;32mIn[4], line 20\u001b[0m\n\u001b[1;32m     12\u001b[0m demo1\u001b[38;5;241m.\u001b[39madd_simulator(\n\u001b[1;32m     13\u001b[0m     simulator_id\u001b[38;5;241m=\u001b[39m\u001b[38;5;124m'\u001b[39m\u001b[38;5;124msimulator1\u001b[39m\u001b[38;5;124m'\u001b[39m,\n\u001b[1;32m     14\u001b[0m     name\u001b[38;5;241m=\u001b[39m\u001b[38;5;124m'\u001b[39m\u001b[38;5;124mcopasi\u001b[39m\u001b[38;5;124m'\u001b[39m,\n\u001b[1;32m     15\u001b[0m     version\u001b[38;5;241m=\u001b[39m\u001b[38;5;124m'\u001b[39m\u001b[38;5;124m'\u001b[39m,\n\u001b[1;32m     16\u001b[0m     kisao_id\u001b[38;5;241m=\u001b[39m\u001b[38;5;124m'\u001b[39m\u001b[38;5;124m'\u001b[39m,\n\u001b[1;32m     17\u001b[0m )\n\u001b[1;32m     19\u001b[0m \u001b[38;5;66;03m# Begin the simulation experiment step\u001b[39;00m\n\u001b[0;32m---> 20\u001b[0m \u001b[43mdemo1\u001b[49m\u001b[38;5;241;43m.\u001b[39;49m\u001b[43mstart_step\u001b[49m(step_id\u001b[38;5;241m=\u001b[39m\u001b[38;5;124m'\u001b[39m\u001b[38;5;124mrun_simulation\u001b[39m\u001b[38;5;124m'\u001b[39m)\n\u001b[1;32m     22\u001b[0m \u001b[38;5;66;03m# Add a simulation run configuration\u001b[39;00m\n\u001b[1;32m     23\u001b[0m demo1\u001b[38;5;241m.\u001b[39madd_simulation(\n\u001b[1;32m     24\u001b[0m     simulation_id\u001b[38;5;241m=\u001b[39m\u001b[38;5;124m'\u001b[39m\u001b[38;5;124mrun1\u001b[39m\u001b[38;5;124m'\u001b[39m,\n\u001b[1;32m     25\u001b[0m     simulator_id\u001b[38;5;241m=\u001b[39m\u001b[38;5;124m'\u001b[39m\u001b[38;5;124msimulator1\u001b[39m\u001b[38;5;124m'\u001b[39m,\n\u001b[0;32m   (...)\u001b[0m\n\u001b[1;32m     30\u001b[0m     observables\u001b[38;5;241m=\u001b[39m[\u001b[38;5;124m'\u001b[39m\u001b[38;5;124mobservable1\u001b[39m\u001b[38;5;124m'\u001b[39m, \u001b[38;5;124m'\u001b[39m\u001b[38;5;124mobservable2\u001b[39m\u001b[38;5;124m'\u001b[39m],\n\u001b[1;32m     31\u001b[0m )\n",
      "\u001b[0;31mAttributeError\u001b[0m: 'SEDBuilder' object has no attribute 'start_step'"
     ]
    }
   ],
   "source": [
    "# Initialize the SEDBuilder\n",
    "demo1 = SEDBuilder()\n",
    "\n",
    "# Load a model\n",
    "demo1.add_model(\n",
    "    model_id='model1',\n",
    "    source=MODEL_PATH,\n",
    "    language='sbml',\n",
    ")\n",
    "\n",
    "# Set up the simulator\n",
    "demo1.add_simulator(\n",
    "    simulator_id='simulator1',\n",
    "    name='copasi',\n",
    "    version='',\n",
    "    kisao_id='',\n",
    ")\n",
    "\n",
    "# Begin the simulation experiment step\n",
    "demo1.start_step(step_id='run_simulation')\n",
    "\n",
    "# Add a simulation run configuration\n",
    "demo1.add_simulation(\n",
    "    simulation_id='run1',\n",
    "    simulator_id='simulator1',\n",
    "    model_id='model1',\n",
    "    start_time=0,\n",
    "    end_time=100,\n",
    "    number_of_points=1000,\n",
    "    observables=['observable1', 'observable2'],\n",
    ")\n",
    "\n",
    "# # Execute the simulation\n",
    "# results = demo1.execute()\n",
    "\n",
    "# # Assuming the 'execute' method returns the results directly.\n",
    "# print(results)\n",
    "\n",
    "# Save to archive\n",
    "demo1.save_archive()"
   ]
  },
  {
   "cell_type": "code",
   "execution_count": null,
   "id": "c2d700b1-5d8c-4461-8c4f-1d75c6bb83b1",
   "metadata": {},
   "outputs": [],
   "source": [
    "demo1.print_sed_doc()"
   ]
  },
  {
   "cell_type": "code",
   "execution_count": null,
   "id": "06e06c72-a3d2-468f-99fe-6fb9d2a62b57",
   "metadata": {
    "scrolled": true
   },
   "outputs": [],
   "source": [
    "plot_bigraph(demo1.bigraph)"
   ]
  },
  {
   "cell_type": "code",
   "execution_count": null,
   "id": "4fa468cc-d20f-434f-83aa-4fe83175ba5a",
   "metadata": {},
   "outputs": [],
   "source": [
    "plot_flow(demo1.bigraph)"
   ]
  },
  {
   "cell_type": "markdown",
   "id": "26bd4175-c273-450c-808b-a0c502bfb898",
   "metadata": {},
   "source": [
    "## 2. Run a single steady-state simulation, The run returns a 1D array containing the steady state values."
   ]
  },
  {
   "cell_type": "code",
   "execution_count": null,
   "id": "5f5f3e9c-35ab-403d-a4e4-18aa8db1e2fb",
   "metadata": {},
   "outputs": [],
   "source": [
    "demo2 = SEDBuilder()"
   ]
  },
  {
   "cell_type": "code",
   "execution_count": null,
   "id": "8805fd24-e7df-4b8e-ae97-688b0585daf2",
   "metadata": {},
   "outputs": [],
   "source": [
    "demo2.print_sed_doc()"
   ]
  },
  {
   "cell_type": "code",
   "execution_count": null,
   "id": "f11a377a-c06b-4a19-bb9d-cc1a3a4cd296",
   "metadata": {},
   "outputs": [],
   "source": [
    "plot_bigraph(demo2.bigraph)"
   ]
  },
  {
   "cell_type": "code",
   "execution_count": null,
   "id": "50e25409-ed50-44d5-bf26-37f34b2d1220",
   "metadata": {},
   "outputs": [],
   "source": [
    "plot_flow(demo2.bigraph)"
   ]
  },
  {
   "cell_type": "markdown",
   "id": "66e114f8-c889-44f4-8a6a-eb2f8a6e0e9d",
   "metadata": {},
   "source": [
    "## 3. Set parameters and/or initial conditions and run time course or steady state evaluation."
   ]
  },
  {
   "cell_type": "code",
   "execution_count": null,
   "id": "8f825ef2-c67c-4612-a6ae-5220f1266940",
   "metadata": {},
   "outputs": [],
   "source": [
    "demo3 = SEDBuilder()"
   ]
  },
  {
   "cell_type": "code",
   "execution_count": null,
   "id": "19b5ef24-70b8-4b20-af18-9ed16aa99193",
   "metadata": {},
   "outputs": [],
   "source": [
    "demo3.print_sed_doc()"
   ]
  },
  {
   "cell_type": "code",
   "execution_count": null,
   "id": "11861698-6ff8-45e1-b03a-d4b8bf859f1b",
   "metadata": {},
   "outputs": [],
   "source": [
    "plot_bigraph(demo3.bigraph)"
   ]
  },
  {
   "cell_type": "code",
   "execution_count": null,
   "id": "ffda5066-987a-43d4-a552-3662dd0490b4",
   "metadata": {},
   "outputs": [],
   "source": [
    "plot_flow(demo3.bigraph)"
   ]
  },
  {
   "cell_type": "markdown",
   "id": "e935be18-57fb-467e-82c8-31373246ca6e",
   "metadata": {},
   "source": [
    "## 4. Repeat simulations any number of times and with any degree of nesting.  Any changes may be applied to parameters, initial conditions etc within the repeated simulations.  The results of the simulation will be collected into arrays."
   ]
  },
  {
   "cell_type": "code",
   "execution_count": null,
   "id": "cce74b25-fb87-46d6-b1f1-26133b80a841",
   "metadata": {},
   "outputs": [],
   "source": []
  },
  {
   "cell_type": "markdown",
   "id": "d22ccdf3-715b-4a48-8551-a2930c8380b1",
   "metadata": {},
   "source": [
    "## 5. Carry out an n-D parameter scan and return the results in an array."
   ]
  },
  {
   "cell_type": "code",
   "execution_count": null,
   "id": "fe04412d-d464-456a-b344-a2d5e3b8731f",
   "metadata": {},
   "outputs": [],
   "source": [
    "demo5 = SEDBuilder()"
   ]
  },
  {
   "cell_type": "code",
   "execution_count": null,
   "id": "2bd71a8d-acc0-4049-bdd1-90543861c2be",
   "metadata": {},
   "outputs": [],
   "source": [
    "demo5.print_sed_doc()"
   ]
  },
  {
   "cell_type": "code",
   "execution_count": null,
   "id": "eded60af-9d0a-46ee-97f3-2187e14880ea",
   "metadata": {},
   "outputs": [],
   "source": [
    "plot_bigraph(demo5.bigraph)"
   ]
  },
  {
   "cell_type": "code",
   "execution_count": null,
   "id": "6cd0670a-510c-413e-b4cb-30f91237c331",
   "metadata": {},
   "outputs": [],
   "source": [
    "plot_flow(demo5.bigraph)"
   ]
  },
  {
   "cell_type": "markdown",
   "id": "b33dd9f1-9f5b-421f-bea8-4acad7693145",
   "metadata": {},
   "source": [
    "## 6. Load experimental data and compare it with simulation data."
   ]
  },
  {
   "cell_type": "code",
   "execution_count": null,
   "id": "8304d040-ec2d-4b36-b665-fc5e6e1a91c9",
   "metadata": {},
   "outputs": [],
   "source": []
  },
  {
   "cell_type": "code",
   "execution_count": null,
   "id": "70bce30b-4883-4404-8d7d-609c07901c59",
   "metadata": {},
   "outputs": [],
   "source": []
  },
  {
   "cell_type": "code",
   "execution_count": null,
   "id": "05d2bc53-be7e-4490-b763-16170c19c8a2",
   "metadata": {},
   "outputs": [],
   "source": []
  },
  {
   "cell_type": "code",
   "execution_count": null,
   "id": "a171e92c-3e0f-4b9d-b711-285ec896c711",
   "metadata": {},
   "outputs": [],
   "source": []
  },
  {
   "cell_type": "markdown",
   "id": "95d35ef2-1f6a-4b0c-a114-d47d82ed3050",
   "metadata": {},
   "source": [
    "## 19. Run multiple stochastic simulations, compute means and standard deviations."
   ]
  },
  {
   "cell_type": "code",
   "execution_count": null,
   "id": "dcd35d5d-a7a5-4ca4-95c9-00522107709a",
   "metadata": {},
   "outputs": [],
   "source": [
    "# Initialize\n",
    "demo19 = SEDBuilder()\n",
    "\n",
    "# Load an SBML model\n",
    "demo19.add_model(\n",
    "    model_id='model1',\n",
    "    source=MODEL_PATH,\n",
    "    language='sbml',\n",
    ")\n",
    "\n",
    "# Set up copasi with the Gillespie algorithm\n",
    "demo19.add_simulator(\n",
    "    simulator_id='gillespie_simulator',\n",
    "    name='copasi',\n",
    "    version='',\n",
    "    kisao_id='0000029',  # Gillespie algorithm\n",
    ")\n",
    "\n",
    "# Begin the first step - running stochastic simulations\n",
    "demo19.start_step(step_id='stochastic_simulations')\n",
    "\n",
    "# Define the number of simulations\n",
    "n_simulations = 10\n",
    "# Run the defined number of stochastic simulations\n",
    "for i in range(n_simulations):\n",
    "    demo19.add_simulation(\n",
    "        simulation_id=f'simulation_{i}',\n",
    "        simulator_id='gillespie_simulator',\n",
    "        model_id='model1',\n",
    "        start_time=0,\n",
    "        end_time=100,\n",
    "        number_of_points=1000,\n",
    "        # Assuming that 'observables' are the species or parameters of interest\n",
    "        observables=['species1', 'species2'],\n",
    "    )\n",
    "\n",
    "# Begin the second step - data processing for mean and standard deviation\n",
    "demo19.start_step(step_id='data_processing')\n",
    "\n",
    "# Add data generator for mean and standard deviation for the observables\n",
    "# We are assuming that the SEDBuilder will internally handle the retrieval of\n",
    "# simulation results and compute the required statistics\n",
    "for observable in ['species1', 'species2']:\n",
    "    demo19.add_data_generator(\n",
    "        data_id=f'stats_{observable}',\n",
    "        observables=observable,\n",
    "        operations=['mean', 'standard_deviation']\n",
    "    )\n",
    "\n",
    "# Begin the third step - plotting the results\n",
    "demo19.start_step(step_id='plotting')\n",
    "\n",
    "# Plot the mean and standard deviation for each observable\n",
    "for observable in ['species1', 'species2']:\n",
    "    demo19.add_visualization(\n",
    "        plot_id=f'plot_stats_{observable}',\n",
    "        plot_type='line',\n",
    "        title=f'Statistics of {observable} Concentration',\n",
    "        x_label='Time',\n",
    "        y_label='Concentration',\n",
    "        legend=['Mean', 'Standard Deviation']\n",
    "    )\n",
    "\n",
    "# Execute the simulation experiment\n",
    "# demo19.execute()"
   ]
  },
  {
   "cell_type": "code",
   "execution_count": null,
   "id": "01e91c71-22de-4c11-bf3b-bd049b8352e1",
   "metadata": {},
   "outputs": [],
   "source": [
    "demo19.print_sed_doc()"
   ]
  },
  {
   "cell_type": "code",
   "execution_count": null,
   "id": "046697cc-964c-4dab-97bc-ea8f525bae5d",
   "metadata": {},
   "outputs": [],
   "source": [
    "plot_bigraph(demo19.bigraph)"
   ]
  },
  {
   "cell_type": "code",
   "execution_count": null,
   "id": "3d4b06d4-a93b-40f6-8994-e1dc08300169",
   "metadata": {},
   "outputs": [],
   "source": [
    "plot_flow(demo19.bigraph)"
   ]
  },
  {
   "cell_type": "markdown",
   "id": "37d43d4b-c23f-483b-b796-b40b618c033d",
   "metadata": {},
   "source": [
    "## 21. Run a simulation, change the structure of the model, rerun the simulation, compare."
   ]
  },
  {
   "cell_type": "code",
   "execution_count": null,
   "id": "c0b0a2a5-c551-41ba-b22b-49b1122936af",
   "metadata": {},
   "outputs": [],
   "source": [
    "# Initialize the SEDBuilder\n",
    "demo21 = SEDBuilder()\n",
    "\n",
    "# Load an SBML model\n",
    "demo21.add_model(\n",
    "    model_id='model1',\n",
    "    source=MODEL_PATH,\n",
    "    language='sbml',\n",
    ")\n",
    "\n",
    "# Set up the simulator\n",
    "demo21.add_simulator(\n",
    "    simulator_id='simulator1',\n",
    "    name='copasi',\n",
    "    version='',\n",
    "    kisao_id='',\n",
    ")\n",
    "\n",
    "# Begin the first step - run the initial simulation\n",
    "demo21.add_step(step_id='initial_simulation', inputs=[], outputs=[])   # TODO \n",
    "demo21.add_step(step_id='modify_model')\n",
    "\n",
    "\n",
    "\n",
    "\n",
    "\n",
    "\n",
    "\n",
    "\n",
    "# Add the first simulation\n",
    "demo21.add_simulation(\n",
    "    step_id='initial_simulation'\n",
    "    simulation_id='initial_run',\n",
    "    simulator_id='simulator1',\n",
    "    model_id='model1',\n",
    "    start_time=0,   # TODO -- these are not parts of a composite, we need a higher order step that runs the composite.\n",
    "    end_time=100,\n",
    "    number_of_points=1000,\n",
    "    observables=['observable1', 'observable2'],\n",
    ")\n",
    "\n",
    "\n",
    "\n",
    "\n",
    "\n",
    "# Save the initial results for comparison\n",
    "demo21.add_data_generator(\n",
    "    data_id='initial_results',\n",
    "    observables=['observable1', 'observable2'],\n",
    "    operations=['value']\n",
    ")\n",
    "\n",
    "# Begin the second step - modify the structure of the model\n",
    "\n",
    "\n",
    "# Perform modifications on the model, e.g., change parameter values, add or remove reactions\n",
    "demo21.add_model(\n",
    "    model_id='model2',\n",
    "    source=MODEL_PATH,\n",
    "    language='sbml',\n",
    "    changes=[\n",
    "        {'type': 'parameter', 'id': 'param1', 'new_value': 1.5},\n",
    "        # Add more changes as needed\n",
    "    ]\n",
    ")\n",
    "\n",
    "# Begin the third step - run the simulation with the modified model\n",
    "demo21.start_step(step_id='modified_simulation')\n",
    "\n",
    "# Add the second simulation using the modified model\n",
    "demo21.add_simulation(\n",
    "    simulation_id='modified_run',\n",
    "    simulator_id='simulator1',\n",
    "    model_id='model1',\n",
    "    start_time=0,\n",
    "    end_time=100,\n",
    "    number_of_points=1000,\n",
    "    observables=['observable1', 'observable2'],\n",
    ")\n",
    "\n",
    "# Save the modified results for comparison\n",
    "demo21.add_data_generator(\n",
    "    data_id='modified_results',\n",
    "    observables=['observable1', 'observable2'],\n",
    "    operations=['value']\n",
    ")\n",
    "\n",
    "# Begin the fourth step - compare the results\n",
    "demo21.start_step(step_id='compare_results')\n",
    "\n",
    "# Compare the results of the initial and modified simulations\n",
    "demo21.add_data_generator(\n",
    "    data_id='compare_results',\n",
    "    # data_id1='initial_results',\n",
    "    # data_id2='modified_results',\n",
    "    generator_id='difference',  # Assuming 'difference' is a supported comparison type\n",
    ")\n",
    "\n",
    "# Execute the simulation experiment\n",
    "# demo21.execute()"
   ]
  },
  {
   "cell_type": "code",
   "execution_count": null,
   "id": "928c3160-8acd-4afa-af4d-9ec8bbae8ebe",
   "metadata": {},
   "outputs": [],
   "source": [
    "demo21.print_sed_doc()"
   ]
  },
  {
   "cell_type": "code",
   "execution_count": null,
   "id": "560c7a96-2c42-4219-a081-8fecd349892d",
   "metadata": {},
   "outputs": [],
   "source": [
    "plot_bigraph(demo21.bigraph)"
   ]
  },
  {
   "cell_type": "code",
   "execution_count": null,
   "id": "f60a6f0f-8834-45fd-aa7c-b25a0ecc912b",
   "metadata": {},
   "outputs": [],
   "source": [
    "plot_flow(demo21.bigraph)"
   ]
  },
  {
   "cell_type": "code",
   "execution_count": null,
   "id": "a7ab6081-275f-4bdd-81ef-539154a2f65d",
   "metadata": {},
   "outputs": [],
   "source": []
  }
 ],
 "metadata": {
  "kernelspec": {
   "display_name": "Python 3 (ipykernel)",
   "language": "python",
   "name": "python3"
  },
  "language_info": {
   "codemirror_mode": {
    "name": "ipython",
    "version": 3
   },
   "file_extension": ".py",
   "mimetype": "text/x-python",
   "name": "python",
   "nbconvert_exporter": "python",
   "pygments_lexer": "ipython3",
   "version": "3.9.6"
  }
 },
 "nbformat": 4,
 "nbformat_minor": 5
}
